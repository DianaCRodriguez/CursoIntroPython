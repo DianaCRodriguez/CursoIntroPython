{
 "cells": [
  {
   "cell_type": "code",
   "execution_count": 4,
   "metadata": {},
   "outputs": [
    {
     "name": "stdout",
     "output_type": "stream",
     "text": [
      "asteroide a alta velocidad acercandose\n"
     ]
    }
   ],
   "source": [
    "#Un asteroide se acerca, y viaja a una velocidad de 49 km/s.\n",
    "vel= 49 \n",
    "if vel >= 25:\n",
    " print(\"asteroide a alta velocidad acercandose\")"
   ]
  },
  {
   "cell_type": "code",
   "execution_count": null,
   "metadata": {},
   "outputs": [],
   "source": [
    "vel= 49 \n",
    "if vel >= 25:\n",
    " print(\"asteroide a alta velocidad acercandose\")"
   ]
  }
 ],
 "metadata": {
  "interpreter": {
   "hash": "85698077abecf5f8f113c53b9360fbacc8ad19c08c5e26cc1c8a281d6153204f"
  },
  "kernelspec": {
   "display_name": "Python 3.10.2 64-bit",
   "language": "python",
   "name": "python3"
  },
  "language_info": {
   "codemirror_mode": {
    "name": "ipython",
    "version": 3
   },
   "file_extension": ".py",
   "mimetype": "text/x-python",
   "name": "python",
   "nbconvert_exporter": "python",
   "pygments_lexer": "ipython3",
   "version": "3.10.2"
  },
  "orig_nbformat": 4
 },
 "nbformat": 4,
 "nbformat_minor": 2
}
